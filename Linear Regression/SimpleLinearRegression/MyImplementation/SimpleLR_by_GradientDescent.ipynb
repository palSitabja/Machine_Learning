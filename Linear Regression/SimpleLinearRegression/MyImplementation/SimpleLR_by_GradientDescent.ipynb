{
 "cells": [
  {
   "cell_type": "markdown",
   "metadata": {},
   "source": [
    "##  @Sitabja Pal ,  21/9/2018, Gradient Descent Algorithm for Simple Linear Regression"
   ]
  },
  {
   "cell_type": "code",
   "execution_count": 1,
   "metadata": {},
   "outputs": [],
   "source": [
    "import numpy as np\n",
    "import matplotlib.pyplot as plt\n",
    "import pandas as pd"
   ]
  },
  {
   "cell_type": "code",
   "execution_count": 2,
   "metadata": {},
   "outputs": [],
   "source": [
    "\n",
    "y=lambda x:m*x_data+c"
   ]
  },
  {
   "cell_type": "code",
   "execution_count": 3,
   "metadata": {},
   "outputs": [],
   "source": [
    "def costFunction(x_data,y_data,y):\n",
    "    theta_zero,theta_one=0,0\n",
    "    size=len(x_data)\n",
    "    for i in range(size):\n",
    "        theta_zero+=y(x_data[i])-y_data[i]\n",
    "        theta_one+=(y(x_data[i])-y_data[i])*x_data[i]\n",
    "        \n",
    "    return theta_zero/size,theta_one/size"
   ]
  },
  {
   "cell_type": "code",
   "execution_count": 4,
   "metadata": {},
   "outputs": [],
   "source": [
    "def gradientDescent(x_data,y_data,m,c,y,learning_rate):\n",
    "    for i in range(14):\n",
    "        c1,c2=costFunction(x_data,y_data,y)\n",
    "        m-=learning_rate*c2\n",
    "        c-=learning_rate*c1\n",
    "        \n",
    "    return m,c"
   ]
  },
  {
   "cell_type": "code",
   "execution_count": 5,
   "metadata": {},
   "outputs": [
    {
     "data": {
      "text/plain": [
       "[<matplotlib.lines.Line2D at 0x1ef25565a58>]"
      ]
     },
     "execution_count": 5,
     "metadata": {},
     "output_type": "execute_result"
    },
    {
     "data": {
      "image/png": "[encoded data removed]",
      "text/plain": [
       "<Figure size 432x288 with 1 Axes>"
      ]
     },
     "metadata": {
      "needs_background": "light"
     },
     "output_type": "display_data"
    }
   ],
   "source": [
    "df=pd.read_csv('Lregressiondata.txt')\n",
    "df.head()\n",
    "x_data=df['no']\n",
    "y_data=df['\\tlabel']\n",
    "m,c=0,0\n",
    "m,c=gradientDescent(x_data,y_data,m,c,y,0.0009)\n",
    "plt.scatter(x_data,y_data)\n",
    "#newY_data=[y(i) for i in x_data]\n",
    "plt.plot(x_data,y(x_data),'r--')"
   ]
  },
  {
   "cell_type": "code",
   "execution_count": null,
   "metadata": {},
   "outputs": [],
   "source": []
  },
  {
   "cell_type": "code",
   "execution_count": null,
   "metadata": {},
   "outputs": [],
   "source": []
  }
 ],
 "metadata": {
  "kernelspec": {
   "display_name": "Python 3",
   "language": "python",
   "name": "python3"
  },
  "language_info": {
   "codemirror_mode": {
    "name": "ipython",
    "version": 3
   },
   "file_extension": ".py",
   "mimetype": "text/x-python",
   "name": "python",
   "nbconvert_exporter": "python",
   "pygments_lexer": "ipython3",
   "version": "3.6.2"
  }
 },
 "nbformat": 4,
 "nbformat_minor": 2
}
