{
 "cells": [
  {
   "cell_type": "code",
   "execution_count": 73,
   "metadata": {},
   "outputs": [],
   "source": [
    "import numpy as np\n",
    "import matplotlib.pyplot as plt\n",
    "import pandas as pd"
   ]
  },
  {
   "cell_type": "code",
   "execution_count": 81,
   "metadata": {},
   "outputs": [],
   "source": [
    "data = np.loadtxt('D:\\Python_codes\\ML\\Data sets\\ex1data2.txt', delimiter = ',')\n",
    "np.set_printoptions(suppress=True)\n",
    "X = np.c_[data[:,0:2]]\n",
    "y = np.c_[data[:,2]]\n",
    "#print(X)\n",
    "#print(y)\n",
    "m = len(X) # number of training examples"
   ]
  },
  {
   "cell_type": "code",
   "execution_count": 82,
   "metadata": {},
   "outputs": [
    {
     "name": "stdout",
     "output_type": "stream",
     "text": [
      "(47, 3)\n"
     ]
    }
   ],
   "source": [
    "# save the mean and STD of each feature\n",
    "meanX = np.array([X.mean(axis=0)])\n",
    "stdX = np.array([X.std(axis=0)])\n",
    "\n",
    "meanX = np.c_[np.zeros(meanX.shape[0]), meanX]\n",
    "stdX = np.c_[np.ones(stdX.shape[0]), stdX]\n",
    "\n",
    "# preparing the design matrix\n",
    "X = (X - X.mean(axis=0))/X.std(axis=0)\n",
    "X=np.c_[np.ones(data.shape[0]),X] \n",
    "print(X.shape)"
   ]
  },
  {
   "cell_type": "code",
   "execution_count": 83,
   "metadata": {},
   "outputs": [
    {
     "name": "stdout",
     "output_type": "stream",
     "text": [
      "(47, 3) * (3, 1) =? (47, 1)\n"
     ]
    }
   ],
   "source": [
    "# preparing the weights vector\n",
    "d = X.shape[1]\n",
    "theta = np.array([np.zeros(d)])\n",
    "theta = theta.reshape(d,1)\n",
    "print(X.shape, '*', theta.shape, '=?', y.shape )"
   ]
  },
  {
   "cell_type": "code",
   "execution_count": 87,
   "metadata": {},
   "outputs": [],
   "source": [
    "def compute_cost( X, y, theta ):\n",
    "    return (0.5/len(X)) * np.dot( ( np.dot(X, theta) - y ).transpose(), ( np.dot(X, theta) - y ) )"
   ]
  },
  {
   "cell_type": "code",
   "execution_count": 88,
   "metadata": {},
   "outputs": [],
   "source": [
    "\n",
    "# Same function as before, but generalised notation\n",
    "def gradient_descent( X, y, theta, alpha, iterations ):\n",
    "    m = len(X[0])\n",
    "    J_history = np.zeros(iterations)\n",
    "    for i in range(iterations):\n",
    "        h = np.dot(X, theta)\n",
    "        theta = theta - (alpha/m) * np.dot( X.transpose(), (h - y) )\n",
    "        J_history[i] = compute_cost(X, y, theta)\n",
    "    return theta, J_history"
   ]
  },
  {
   "cell_type": "code",
   "execution_count": 89,
   "metadata": {},
   "outputs": [],
   "source": [
    "iterations = 50\n",
    "alpha = 0.007"
   ]
  },
  {
   "cell_type": "code",
   "execution_count": 90,
   "metadata": {},
   "outputs": [
    {
     "name": "stdout",
     "output_type": "stream",
     "text": [
      "The predicted theta values are:  [[339390.22066666]\n",
      " [104551.17310331]\n",
      " [ -1690.40133649]]\n"
     ]
    }
   ],
   "source": [
    "pred_theta, J_log = gradient_descent( X, y, theta, alpha, iterations )\n",
    "print( 'The predicted theta values are: ', pred_theta )"
   ]
  },
  {
   "cell_type": "code",
   "execution_count": null,
   "metadata": {},
   "outputs": [],
   "source": []
  }
 ],
 "metadata": {
  "kernelspec": {
   "display_name": "Python 3",
   "language": "python",
   "name": "python3"
  },
  "language_info": {
   "codemirror_mode": {
    "name": "ipython",
    "version": 3
   },
   "file_extension": ".py",
   "mimetype": "text/x-python",
   "name": "python",
   "nbconvert_exporter": "python",
   "pygments_lexer": "ipython3",
   "version": "3.6.2"
  }
 },
 "nbformat": 4,
 "nbformat_minor": 2
}
